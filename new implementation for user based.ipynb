{
 "cells": [
  {
   "cell_type": "code",
   "execution_count": 2,
   "metadata": {},
   "outputs": [],
   "source": [
    "# Import Pandas\n",
    "# The Pandas library to load and manipulate data.\n",
    "import pandas as pd\n",
    "import numpy as np\n",
    "from sklearn.metrics.pairwise import pairwise_distances\n",
    "# the code imports the Pandas library using the import statement and assigns it the alias pd\n",
    "\n",
    "# Load Movies data\n",
    "movies_data = pd.read_csv(\"ml-latest-small/movies.csv\")\n",
    "# it loads a CSV file called movies.csv using the pd.read_csv() function and assigns it to a variable called movies_data.\n",
    "\n",
    "\n",
    "# Load Links data\n",
    "links_data = pd.read_csv(\"ml-latest-small/links.csv\")\n",
    "\n",
    "# Load ratings data\n",
    "ratings_data = pd.read_csv(\"ml-latest-small/ratings.csv\")\n",
    "\n",
    "# Load tags data\n",
    "tags_data = pd.read_csv(\"ml-latest-small/tags.csv\")\n"
   ]
  },
  {
   "cell_type": "code",
   "execution_count": 3,
   "metadata": {},
   "outputs": [
    {
     "data": {
      "text/plain": [
       "array([4. , 5. , 3. , 2. , 1. , 4.5, 3.5, 2.5, 0.5, 1.5])"
      ]
     },
     "execution_count": 3,
     "metadata": {},
     "output_type": "execute_result"
    }
   ],
   "source": [
    "ratings_data['rating'].unique()"
   ]
  },
  {
   "cell_type": "code",
   "execution_count": 15,
   "metadata": {},
   "outputs": [
    {
     "name": "stdout",
     "output_type": "stream",
     "text": [
      "    movieId                                      title  \\\n",
      "2         3                    Grumpier Old Men (1995)   \n",
      "5         6                                Heat (1995)   \n",
      "9        10                           GoldenEye (1995)   \n",
      "10       11             American President, The (1995)   \n",
      "15       16                              Casino (1995)   \n",
      "19       20                         Money Train (1995)   \n",
      "22       23                           Assassins (1995)   \n",
      "31       32  Twelve Monkeys (a.k.a. 12 Monkeys) (1995)   \n",
      "43       47                Seven (a.k.a. Se7en) (1995)   \n",
      "47       52                    Mighty Aphrodite (1995)   \n",
      "\n",
      "                                genres  PredictedRating  \n",
      "2                       Comedy|Romance                5  \n",
      "5                Action|Crime|Thriller                5  \n",
      "9            Action|Adventure|Thriller                5  \n",
      "10                Comedy|Drama|Romance                5  \n",
      "15                         Crime|Drama                5  \n",
      "19  Action|Comedy|Crime|Drama|Thriller                5  \n",
      "22               Action|Crime|Thriller                5  \n",
      "31             Mystery|Sci-Fi|Thriller                5  \n",
      "43                    Mystery|Thriller                5  \n",
      "47                Comedy|Drama|Romance                5  \n"
     ]
    }
   ],
   "source": [
    "\n",
    "\n",
    "# Create a user-item matrix\n",
    "user_item_matrix = ratings_data.pivot(index='userId', columns='movieId', values='rating').fillna(0)\n",
    "\n",
    "# Calculate user-user similarity using Pearson correlation\n",
    "user_similarity = 1 - pairwise_distances(user_item_matrix, metric='correlation')\n",
    "\n",
    "# Prediction function with correct rating scaling\n",
    "def predict_rating(user_id, item_id, k=5):\n",
    "    user_ratings = user_item_matrix.loc[user_id]\n",
    "    item_rated_by_user = user_ratings[item_id]\n",
    "\n",
    "    if item_rated_by_user != 0:\n",
    "        return item_rated_by_user\n",
    "\n",
    "    similar_users = np.argpartition(user_similarity[user_id], -k)[-k:]\n",
    "\n",
    "    weighted_sum = 0\n",
    "    similarity_sum = 0\n",
    "    for neighbor_id in similar_users:\n",
    "        neighbor_rating = user_item_matrix.loc[neighbor_id, item_id]\n",
    "        neighbor_mean = user_item_matrix.loc[neighbor_id].mean()\n",
    "\n",
    "        if neighbor_rating != 0:\n",
    "            similarity = user_similarity[user_id, neighbor_id]\n",
    "            weighted_sum += similarity * (neighbor_rating - neighbor_mean)\n",
    "            similarity_sum += abs(similarity)\n",
    "\n",
    "    if similarity_sum == 0:\n",
    "        return user_ratings.mean()\n",
    "    else:\n",
    "        user_mean = user_ratings[user_ratings != 0].mean()\n",
    "        prediction = user_mean + weighted_sum / similarity_sum\n",
    "\n",
    "        # Scale the prediction to the 0-5 range\n",
    "        prediction = max(0, min(5, prediction))\n",
    "        return prediction\n",
    "\n",
    "\n",
    "\n",
    "# Recommendation function\n",
    "def recommend_movies(user_id, top_n=10):\n",
    "    unrated_movies = user_item_matrix.loc[user_id][user_item_matrix.loc[user_id] == 0]\n",
    "\n",
    "    recommendations = []\n",
    "    for item_id in unrated_movies.index:\n",
    "        predicted_rating = predict_rating(user_id, item_id)\n",
    "        recommendations.append((item_id, predicted_rating))\n",
    "\n",
    "    recommendations.sort(key=lambda x: x[1], reverse=True)\n",
    "    top_recommendations = recommendations[:top_n]\n",
    "\n",
    "    recommended_movie_ids = [x[0] for x in top_recommendations]\n",
    "    recommended_ratings = [x[1] for x in top_recommendations]\n",
    "\n",
    "    recommended_movies = movies_data[movies_data['movieId'].isin(recommended_movie_ids)].copy()\n",
    "    recommended_movies['PredictedRating'] = recommended_ratings\n",
    "\n",
    "    return recommended_movies\n",
    "\n",
    "# Example: Recommend movies for user 1\n",
    "user_id = 5\n",
    "recommended_movies_df = recommend_movies(user_id, top_n=10)\n",
    "print(recommended_movies_df)\n",
    "\n",
    "\n",
    "\n",
    "\n",
    "\n",
    "\n",
    "\n"
   ]
  }
 ],
 "metadata": {
  "kernelspec": {
   "display_name": "base",
   "language": "python",
   "name": "python3"
  },
  "language_info": {
   "codemirror_mode": {
    "name": "ipython",
    "version": 3
   },
   "file_extension": ".py",
   "mimetype": "text/x-python",
   "name": "python",
   "nbconvert_exporter": "python",
   "pygments_lexer": "ipython3",
   "version": "3.9.13"
  }
 },
 "nbformat": 4,
 "nbformat_minor": 2
}
